{
 "cells": [
  {
   "cell_type": "code",
   "execution_count": 190,
   "id": "fb6ac877-3d15-476e-8175-d2ed8e0142f1",
   "metadata": {},
   "outputs": [],
   "source": [
    "import pandas as pd\n",
    "import matplotlib.pyplot as plt\n",
    "import numpy as np\n",
    "# Ruta del archivo CSV\n",
    "ruta_mareapich= r'C:\\Users\\marib\\OneDrive\\Escritorio\\295\\reconstrucion_residuo_pich.csv'\n",
    "# Carga del archivo de pichidangui generado en el código previo\n",
    "mareapich= pd.read_csv(ruta_mareapich)\n",
    "mareapich['fecha'] = pd.to_datetime(mareapich['fecha']) # Asegurarse del formato DateTime\n",
    "# Carga de datos del Humedal de Pichicuy\n",
    "ruta_csv_costab = r'C:\\Users\\marib\\OneDrive\\Escritorio\\295\\Costa_28July2023-18Aug2024 1(in).csv'\n",
    "costab= pd.read_csv(ruta_csv_costab)\n",
    "# Los datos de Pichicuy tienen algunos errores en la serie DateTime\n",
    "# Corregir los datos de hora 00:00\n",
    "N = 13\n",
    "costab['DateTime'] = costab['DateTime'].apply(lambda x: x + ' 00:00' if len(x) < N else x)\n",
    "costab['DateTime'] = pd.to_datetime(costab['DateTime'], dayfirst=True) #El formato de esta serie es día/hora, originalmente\n",
    "# Corregir los datos de waterlevel, en relación al nivel promedio del mar.\n",
    "costab['WL'] = costab['WL'] - 0.781234"
   ]
  },
  {
   "cell_type": "code",
   "execution_count": 191,
   "id": "633a2edf-b03a-4561-ab22-73ea308df190",
   "metadata": {},
   "outputs": [],
   "source": [
    "# Filtrar el DataFrame para que incluya solo datos desde el 11 de enero de 2024 al 30 junio de 2024\n",
    "start_date = '2024-01-01'\n",
    "end_date = '2024-05-31'\n",
    "#end_date = '2024-01-20' Para la visualización de datos se usa desde el 11 de enero hasta el 20 de enero.\n",
    "\n",
    "# Aplicar el filtro\n",
    "f_costab = costab[(costab['DateTime'] >= start_date) & (costab['DateTime'] <= end_date)]\n",
    "f_mareapich = mareapich[(mareapich['fecha'] >= start_date) & (mareapich['fecha'] <= end_date)]"
   ]
  },
  {
   "cell_type": "code",
   "execution_count": 192,
   "id": "f4f1bb56-7c36-4d72-a504-cb715b45ae8e",
   "metadata": {},
   "outputs": [],
   "source": [
    "%matplotlib qt \n",
    "# Graficar los datos del archivo CSV\n",
    "#plt.xlabel('Fecha', fontsize=20) # Label de x\n",
    "plt.ylabel('Nivel del Mar [m]', fontsize=22) # Label de y\n",
    "plt.plot(f_mareapich['fecha'], f_mareapich['Reconstruccion Pichidangui'], color='navy', label='Nivel de la Marea [m]', linewidth = 2) # Ploteo de datos\n",
    "plt.plot(f_costab['DateTime'], f_costab['WL'], color='lightseagreen', label='Nivel de Agua Laguna [m]', linewidth = 5) # Ploteo de datos\n",
    "plt.xticks(fontsize=22)                 \n",
    "plt.yticks(fontsize=22) \n",
    "\n",
    "# Añadir leyenda\n",
    "plt.tight_layout()\n",
    "plt.legend(loc='upper right', fontsize=20)\n",
    "\n",
    "# Mostrar el gráfico\n",
    "plt.show() # Mostrar figura"
   ]
  },
  {
   "cell_type": "code",
   "execution_count": 196,
   "id": "99f4b4b5-1170-4910-b8de-c891725fe5f6",
   "metadata": {},
   "outputs": [],
   "source": [
    "# Filtrar el DataFrame para que incluya solo datos desde el 11 de enero de 2024 al 30 junio de 2024\n",
    "start_date = '2024-01-11'\n",
    "end_date = '2024-01-20'\n",
    "#end_date = '2024-01-20' Para la visualización de datos se usa desde el 11 de enero hasta el 20 de enero.\n",
    "\n",
    "# Aplicar el filtro\n",
    "f_costab = costab[(costab['DateTime'] >= start_date) & (costab['DateTime'] <= end_date)]\n",
    "f_mareapich = mareapich[(mareapich['fecha'] >= start_date) & (mareapich['fecha'] <= end_date)]"
   ]
  },
  {
   "cell_type": "code",
   "execution_count": 198,
   "id": "b599ac45-bf6c-42b4-bc08-a81c5d623476",
   "metadata": {},
   "outputs": [
    {
     "name": "stderr",
     "output_type": "stream",
     "text": [
      "C:\\Users\\marib\\AppData\\Local\\Temp\\ipykernel_12472\\723283249.py:6: SettingWithCopyWarning: \n",
      "A value is trying to be set on a copy of a slice from a DataFrame.\n",
      "Try using .loc[row_indexer,col_indexer] = value instead\n",
      "\n",
      "See the caveats in the documentation: https://pandas.pydata.org/pandas-docs/stable/user_guide/indexing.html#returning-a-view-versus-a-copy\n",
      "  f_costab['WL_smooth'] = Smoot_wlpichicuy\n"
     ]
    }
   ],
   "source": [
    "# Los datos de Pichicuy son muy ruidosos, mientras que los datos de marea gravitacional son suaves, por lo tanto suavizamos\n",
    "# los datos.\n",
    "from scipy.signal import savgol_filter\n",
    "wl_pichicuy = f_costab['WL']\n",
    "Smoot_wlpichicuy = savgol_filter(wl_pichicuy, 300, 3)\n",
    "f_costab['WL_smooth'] = Smoot_wlpichicuy"
   ]
  },
  {
   "cell_type": "markdown",
   "id": "dd4ba66a-cd48-43fc-83ad-1db3dfc65693",
   "metadata": {},
   "source": [
    "## Implementación de la Ley de Darcy"
   ]
  },
  {
   "cell_type": "code",
   "execution_count": 267,
   "id": "afc94d82-18cf-4f93-a8ca-5521307be660",
   "metadata": {},
   "outputs": [],
   "source": [
    "slope_tan = 0.076 # Pendiente promedio de la playa. Calculado a partir de http://coastsat.wrl.unsw.edu.au/\n",
    "L_w = 406.31 # Largo de la laguna. Medido en Google Earth\n",
    "A_laguna = 11735.88 # Area de la laguna. Medido en Google Earth\n",
    "L0 = 100 # Distancia de la laguna al mar cuando h_m = 0\n",
    "h_m0 = 0 \n",
    "K_1 = 10**-1 # Conductividad hidraúlica\n",
    "K_3 = 10**-3 # Conductividad hidraúlica\n",
    "K_6 = 10**-6 # Conductividad hidraúlica\n",
    "\n",
    "# Cambio de la distancia al mar debido a subida y bajada de la marea en base a triginometría\n",
    "# L -> distancia del Humedal a la costa\n",
    "# h_m0 -> nivel de la marea relativo a L\n",
    "# tan -> Pendiente de la playa\n",
    "# data -> nombre de la serie de nivel de marea\n",
    "# datetime -> nombre de la serie temporal\n",
    "# time -> tiempo actual\n",
    "def L_change(L, h_m0, tan, df, data, datetime, time):\n",
    "    L_new = L - (df[df[datetime] == time][data] - h_m0)/tan\n",
    "    #L_new = L\n",
    "    return L_new\n",
    "\n",
    "# Ley de Darcy para calcular el alto de la interfaz w\n",
    "# L -> distancia del Humedal a la costa (calculado a partir de L_change)\n",
    "# L_w -> Ancho de la laguna \"Costa\"\n",
    "# K -> Conductividad hidraulica\n",
    "# df1 -> dataframe de la laguna costa\n",
    "# df2 -> dataframe de marea de Pichidangui\n",
    "# data1 -> nombre de la serie de nivel de la laguna \"Costa\"\n",
    "# data2 -> nombre de la serie de nivel de marea\n",
    "# datetime1 -> nombre de la serie temporal de Pichicuy\n",
    "# datetime2 -> nombre de la serie temporal de Pichidangui\n",
    "# time -> tiempo actual\n",
    "# prev_time -> tiempo anerior\n",
    "def darcyslaw(L, L_w, K, df1, df2, data1, data2, datetime1, datetime2, time, prev_time):\n",
    "    # Diferencia de altura entre la laguna \"Costa\" y el nivel de la marea\n",
    "    delta_h = float(df1[df1[datetime1] == time][data1]) -  float(df2[df2[datetime2] == time][data2])\n",
    "    # Paso temporal\n",
    "    delta_t = time.timestamp() - prev_time.timestamp()\n",
    "    # Eliminación de casos cercanos a la divergencia dh = 0\n",
    "    if abs(delta_h) < (2.5*10**-1)* float(df1[df1[datetime1] == time][data1]):\n",
    "        Q = float('nan')\n",
    "        w = float('nan')\n",
    "    else:\n",
    "        # Cálculo del caudal en base al cambio de nivel de agua de la laguna \"Costa\"\n",
    "        Q = (float(df1[df1[datetime1] == time][data1]) - float(df1[df1[datetime1] == prev_time][data1]))*A_laguna/(delta_t)\n",
    "        # Cálculo de la altura de la interfaz\n",
    "        w = L*Q/(L_w*K*delta_h)\n",
    "    # Entrega los resultados en valor absoluto\n",
    "    return abs(w), Q"
   ]
  },
  {
   "cell_type": "code",
   "execution_count": 269,
   "id": "d4618915-4a12-4016-843b-01eea028e77a",
   "metadata": {},
   "outputs": [
    {
     "name": "stdout",
     "output_type": "stream",
     "text": [
      "11459\n"
     ]
    }
   ],
   "source": [
    "# Encontrar datos de fecha comunes\n",
    "common_datetimes = pd.Series(list(set(f_costab['DateTime']).intersection(set(f_mareapich['fecha']))))\n",
    "\n",
    "# Filtrar ambos dataframes para que tengan los mismos datos de fecha\n",
    "darcy_costab = f_costab[f_costab['DateTime'].isin(common_datetimes)].reset_index(drop=True)\n",
    "darcy_mareapich = f_mareapich[f_mareapich['fecha'].isin(common_datetimes)].reset_index(drop=True)\n",
    "print(len(darcy_costab))"
   ]
  },
  {
   "cell_type": "code",
   "execution_count": 273,
   "id": "0b7944cd-c931-4b66-9f32-4bada57a91be",
   "metadata": {},
   "outputs": [
    {
     "name": "stderr",
     "output_type": "stream",
     "text": [
      "C:\\Users\\marib\\AppData\\Local\\Temp\\ipykernel_12472\\2213484679.py:12: FutureWarning: Calling float on a single element Series is deprecated and will raise a TypeError in the future. Use float(ser.iloc[0]) instead\n",
      "  width_smooth_1, Flow_smooth = darcyslaw(float(L), L_w, K_1, darcy_costab, darcy_mareapich, 'WL_smooth', 'Reconstruccion Pichidangui', 'DateTime', 'fecha', current_time, previous_time)\n",
      "C:\\Users\\marib\\AppData\\Local\\Temp\\ipykernel_12472\\2958514393.py:36: FutureWarning: Calling float on a single element Series is deprecated and will raise a TypeError in the future. Use float(ser.iloc[0]) instead\n",
      "  delta_h = float(df1[df1[datetime1] == time][data1]) -  float(df2[df2[datetime2] == time][data2])\n",
      "C:\\Users\\marib\\AppData\\Local\\Temp\\ipykernel_12472\\2958514393.py:40: FutureWarning: Calling float on a single element Series is deprecated and will raise a TypeError in the future. Use float(ser.iloc[0]) instead\n",
      "  if abs(delta_h) < (2.5*10**-1)* float(df1[df1[datetime1] == time][data1]):\n",
      "C:\\Users\\marib\\AppData\\Local\\Temp\\ipykernel_12472\\2958514393.py:45: FutureWarning: Calling float on a single element Series is deprecated and will raise a TypeError in the future. Use float(ser.iloc[0]) instead\n",
      "  Q = (float(df1[df1[datetime1] == time][data1]) - float(df1[df1[datetime1] == prev_time][data1]))*A_laguna/(delta_t)\n",
      "C:\\Users\\marib\\AppData\\Local\\Temp\\ipykernel_12472\\2213484679.py:13: FutureWarning: Calling float on a single element Series is deprecated and will raise a TypeError in the future. Use float(ser.iloc[0]) instead\n",
      "  width_smooth_3, Flow_smooth = darcyslaw(float(L), L_w, K_3, darcy_costab, darcy_mareapich, 'WL_smooth', 'Reconstruccion Pichidangui', 'DateTime', 'fecha', current_time, previous_time)\n",
      "C:\\Users\\marib\\AppData\\Local\\Temp\\ipykernel_12472\\2213484679.py:14: FutureWarning: Calling float on a single element Series is deprecated and will raise a TypeError in the future. Use float(ser.iloc[0]) instead\n",
      "  width_smooth_6, Flow_smooth = darcyslaw(float(L), L_w, K_6, darcy_costab, darcy_mareapich, 'WL_smooth', 'Reconstruccion Pichidangui', 'DateTime', 'fecha', current_time, previous_time)\n"
     ]
    }
   ],
   "source": [
    "# Creacion de vectores de alto w y caudal Q\n",
    "w_smooth_1 = []\n",
    "w_smooth_3 = []\n",
    "w_smooth_6 = []\n",
    "Q_smooth = []\n",
    "\n",
    "# Iteración a lo largo de la serie temporal\n",
    "for i in range(1, len(darcy_costab)):\n",
    "    current_time = darcy_costab.loc[i, 'DateTime']       # Tiempo actual\n",
    "    previous_time = darcy_costab.loc[i - 1, 'DateTime']  # Tiempo previo\n",
    "    L = L_change(L0, h_m0, slope_tan, darcy_mareapich, 'Reconstruccion Pichidangui', 'fecha', current_time)\n",
    "    # Aturas para distintos K\n",
    "    width_smooth_1, Flow_smooth = darcyslaw(float(L), L_w, K_1, darcy_costab, darcy_mareapich, 'WL_smooth', 'Reconstruccion Pichidangui', 'DateTime', 'fecha', current_time, previous_time)\n",
    "    width_smooth_3, Flow_smooth = darcyslaw(float(L), L_w, K_3, darcy_costab, darcy_mareapich, 'WL_smooth', 'Reconstruccion Pichidangui', 'DateTime', 'fecha', current_time, previous_time)\n",
    "    width_smooth_6, Flow_smooth = darcyslaw(float(L), L_w, K_6, darcy_costab, darcy_mareapich, 'WL_smooth', 'Reconstruccion Pichidangui', 'DateTime', 'fecha', current_time, previous_time)\n",
    "    w_smooth_1.append(width_smooth_1)\n",
    "    w_smooth_3.append(width_smooth_3)\n",
    "    w_smooth_6.append(width_smooth_6)\n",
    "    Q_smooth.append(Flow_smooth)\n"
   ]
  },
  {
   "cell_type": "code",
   "execution_count": 275,
   "id": "86f7eb86-a782-4d4d-9d7a-5b2199d941cc",
   "metadata": {},
   "outputs": [],
   "source": [
    "# Insertamos un elemento al principio de cada vector para igualar la cantidad de datos\n",
    "w_smooth_1.insert(0, 0)\n",
    "w_smooth_3.insert(0, 0)\n",
    "w_smooth_6.insert(0, 0)\n",
    "Q_smooth.insert(0, 0)\n",
    "#w_real.insert(0, 0)"
   ]
  },
  {
   "cell_type": "markdown",
   "id": "7abc5ab7-ad28-478c-853f-92d54ebbe163",
   "metadata": {},
   "source": [
    "### Es importante saber cuando el nivel del agua de la laguna \"Costa\" esta por sobre el nivel de la marea"
   ]
  },
  {
   "cell_type": "code",
   "execution_count": 278,
   "id": "f1cf9525-0b1f-4e9f-824b-b12b825338b7",
   "metadata": {},
   "outputs": [
    {
     "name": "stdout",
     "output_type": "stream",
     "text": [
      "Empty DataFrame\n",
      "Columns: [DateTime, WL_pichicuy, WL_pichidangui, Type]\n",
      "Index: []\n"
     ]
    }
   ],
   "source": [
    "# Creamos un dataframe con los niveles de agua de la laguna \"Costa\" y de marea, además del tiempo y una designación\n",
    "# del tipo (por sobre, igual o bajo el nivel de la marea)\n",
    "df_new = pd.DataFrame({\n",
    "    'DateTime': darcy_costab['DateTime'],\n",
    "    'WL_pichicuy': darcy_costab['WL_smooth'],\n",
    "    'WL_pichidangui': darcy_mareapich['Reconstruccion Pichidangui'],\n",
    "    'Type': ['None']*len(darcy_costab)\n",
    "})\n",
    "# Itereamos sobre el dataframe para catalogar\n",
    "for i in range(0, len(df_new)):\n",
    "    row = df_new.loc[i]\n",
    "    if i!=0:\n",
    "        row_prev = df_new.loc[i-1]\n",
    "        # Si cruza el 0 asignar Equal\n",
    "        if (float(row['WL_pichicuy']) - float(row['WL_pichidangui']))>0 and (float(row_prev['WL_pichicuy']) - float(row_prev['WL_pichidangui']))<0:\n",
    "            df_new.loc[i, 'Type'] = 'Equal'\n",
    "        # Si cruza el 0 asignar Equal\n",
    "        elif (float(row['WL_pichicuy']) - float(row['WL_pichidangui']))<0 and (float(row_prev['WL_pichicuy']) - float(row_prev['WL_pichidangui']))>0:\n",
    "            df_new.loc[i, 'Type'] = 'Equal'\n",
    "        # Si la laguna Costa esta por sobre la marea asignar Greater\n",
    "        elif float(row['WL_pichicuy']) > float(row['WL_pichidangui']):\n",
    "            df_new.loc[i, 'Type'] = 'Greater' \n",
    "        # Si la laguna Costa esta bajo la marea asignar Lesser\n",
    "        elif float(row['WL_pichicuy']) < float(row['WL_pichidangui']):\n",
    "            df_new.loc[i, 'Type'] = 'Lesser'\n",
    "        # Si ambos niveles son iguales asignar Equal\n",
    "        elif (float(row['WL_pichicuy']) == float(row['WL_pichidangui'])):\n",
    "            df_new.loc[i, 'Type'] = 'Equal'\n",
    "    else:\n",
    "        # Si la laguna Costa esta por sobre la marea asignar Greater\n",
    "        if float(row['WL_pichicuy']) > float(row['WL_pichidangui']):\n",
    "            df_new.loc[i, 'Type'] = 'Greater' \n",
    "        # Si la laguna Costa esta bajo la marea asignar Lesser\n",
    "        elif float(row['WL_pichicuy']) < float(row['WL_pichidangui']):\n",
    "            df_new.loc[i, 'Type'] = 'Lesser'\n",
    "# Checkeamos que no falten datos catalogados\n",
    "print(df_new[df_new['Type'] == 'None'])\n",
    "df_greater = df_new[df_new['Type'] == 'Greater']\n",
    "df_lesser = df_new[df_new['Type'] == 'Lesser']\n",
    "df_equal = df_new[df_new['Type'] == 'Equal']"
   ]
  },
  {
   "cell_type": "code",
   "execution_count": 288,
   "id": "63e657e6-b8de-413e-b7da-6a20770e6e9d",
   "metadata": {},
   "outputs": [],
   "source": [
    "%matplotlib qt \n",
    "\n",
    "# Ploteamos los resultados de w para K = 10e-3\n",
    "\n",
    "fig, ax2 = plt.subplots()\n",
    "\n",
    "ax2.scatter(df_greater['DateTime'], df_greater['WL_pichicuy'], color='lightseagreen', s = 11, label = 'Laguna - Sobre el NM')\n",
    "ax2.set_ylabel('Nivel de Agua Laguna [m]', fontsize = 22)\n",
    "ax2.set_ylim(0.4, 0.47)\n",
    "ax2.tick_params(axis='x', labelsize=16)  \n",
    "ax2.tick_params(axis='y', labelsize=22)  \n",
    "ax3 = ax2.twinx()\n",
    "ax3.scatter(df_lesser['DateTime'], df_lesser['WL_pichicuy'], color='slateblue', s = 11, label = 'Laguna - Bajo el NM')\n",
    "#ax3.set_ylabel('Y2 scale', color='lightseagreen')\n",
    "ax3.set_ylim(0.4, 0.47)\n",
    "ax3.tick_params(axis='y', labelsize=0)  \n",
    "ax4 = ax2.twinx()\n",
    "ax4.scatter(df_equal['DateTime'], df_equal['WL_pichicuy'], color='black', s = 50, label = 'Laguna - Igual al NM')\n",
    "#ax4.set_ylabel('Y2 scale', color='lightseagreen')\n",
    "ax4.set_ylim(0.4, 0.47)\n",
    "ax4.tick_params(axis='y', labelsize=0)  \n",
    "# Third curve on a third y-axis\n",
    "ax5 = ax2.twinx()\n",
    "#ax5.spines['right'].set_position(('outward', 90))\n",
    "ax5.plot(darcy_costab['DateTime'], w_smooth, color='yellowgreen', linestyle = '-', linewidth = 1.5, label = 'Altura de la interfaz')\n",
    "ax5.set_ylabel('Altura de la interfaz [m]', fontsize = 22)\n",
    "ax5.set_ylim(0, 0.15)\n",
    "ax5.tick_params(axis='y', labelsize=22)  \n",
    "#fig.legend(fontsize = 15, loc = 'upper left', framealpha = 1)\n",
    "plt.show()"
   ]
  },
  {
   "cell_type": "code",
   "execution_count": 402,
   "id": "4e91faf1-4ff7-4ec6-9553-be0db59a62ce",
   "metadata": {},
   "outputs": [],
   "source": [
    "# Ploteamos los resultados de w para K = 10e-1, 10e-3 y 10e-6\n",
    "\n",
    "fig, ax2 = plt.subplots()\n",
    "\n",
    "ax2.plot(df_new['DateTime'], df_new['WL_pichicuy'], color='slategray', linewidth = 5.5, label = 'Nivel de la Laguna')\n",
    "ax2.set_ylabel('Nivel de Agua Laguna [m]', fontsize = 22)\n",
    "ax2.set_ylim(0.4, 0.47)\n",
    "ax2.tick_params(axis='x', labelsize=16)  \n",
    "ax2.tick_params(axis='y', labelsize=22)  \n",
    "# Third curve on a third y-axis\n",
    "ax5 = ax2.twinx()\n",
    "#ax5.spines['right'].set_position(('outward', 90))\n",
    "ax5.plot(darcy_costab['DateTime'], w_smooth_1, color='lightseagreen', linestyle = '-', linewidth = 2, label = 'Altura de la interfaz para $K = 10^{-1} ms^{-1}$')\n",
    "ax5.set_ylim(0, 0.15)\n",
    "ax5.tick_params(axis='y', labelsize=22, colors = 'lightseagreen')  \n",
    "ax7 = ax2.twinx()\n",
    "ax7.spines['right'].set_position(('outward', 70))\n",
    "ax7.plot(darcy_costab['DateTime'], w_smooth_3, color='yellowgreen', linestyle = '-', linewidth = 3, label = 'Altura de la interfaz para $K = 10^{-3} ms^{-1}$')\n",
    "ax7.set_ylim(0, 7)\n",
    "ax7.tick_params(axis='y', labelsize=22, colors = 'yellowgreen')  \n",
    "ax6 = ax2.twinx()\n",
    "ax6.spines['right'].set_position(('outward', 100))\n",
    "ax6.plot(darcy_costab['DateTime'], w_smooth_6, color='teal', linestyle = '-', linewidth = 2, label = 'Altura de la interfaz para $K = 10^{-6} ms^{-1}$')\n",
    "ax6.set_ylim(0, 4000)\n",
    "ax6.tick_params(axis='y', labelsize=22, colors = 'teal')  \n",
    "ax6.set_ylabel('Altura de la interfaz [m]', fontsize = 22)\n",
    "#fig.legend(fontsize = 20, loc = 'upper left', framealpha = 1)\n",
    "plt.show()"
   ]
  },
  {
   "cell_type": "code",
   "execution_count": 292,
   "id": "61b5f3fd-0cd1-428d-b61b-f90c464f619a",
   "metadata": {},
   "outputs": [],
   "source": [
    "# Ploteamos los resultados de Q\n",
    "\n",
    "fig, ax2 = plt.subplots()\n",
    "\n",
    "ax2.scatter(df_greater['DateTime'], df_greater['WL_pichicuy'], color='lightseagreen', s = 11, label = 'Laguna - Sobre el NM')\n",
    "ax2.set_ylabel('Nivel de Agua Laguna [m]', fontsize = 22)\n",
    "ax2.set_ylim(0.4, 0.47)\n",
    "ax2.tick_params(axis='x', labelsize=16)  \n",
    "ax2.tick_params(axis='y', labelsize=22)  \n",
    "ax3 = ax2.twinx()\n",
    "ax3.scatter(df_lesser['DateTime'], df_lesser['WL_pichicuy'], color='slateblue', s = 11, label = 'Laguna - Bajo el NM')\n",
    "#ax3.set_ylabel('Y2 scale', color='lightseagreen')\n",
    "ax3.set_ylim(0.4, 0.47)\n",
    "ax3.tick_params(axis='y', labelsize=0)  \n",
    "ax4 = ax2.twinx()\n",
    "ax4.scatter(df_equal['DateTime'], df_equal['WL_pichicuy'], color='black', s = 50, label = 'Laguna - Igual al NM')\n",
    "#ax4.set_ylabel('Y2 scale', color='lightseagreen')\n",
    "ax4.set_ylim(0.4, 0.47)\n",
    "ax4.tick_params(axis='y', labelsize=0)  \n",
    "# Third curve on a third y-axis\n",
    "ax5 = ax2.twinx()\n",
    "#ax5.spines['right'].set_position(('outward', 90))\n",
    "ax5.plot(darcy_costab['DateTime'], Q_smooth, color='indianred', linestyle = '-', linewidth = 1.5, label = 'Caudal')\n",
    "ax5.set_ylabel('Caudal $[m^{3}s^{-1}]$', fontsize = 22)\n",
    "#ax5.set_ylim(0, 7.5)\n",
    "ax5.tick_params(axis='y', labelsize=22)  \n",
    "#fig.legend(fontsize = 15, loc = 'upper left', framealpha = 1)\n",
    "plt.axhline(y=0, color='black', linestyle='--')\n",
    "plt.show()"
   ]
  },
  {
   "cell_type": "code",
   "execution_count": null,
   "id": "40b02db2-a9a4-48ad-b288-b712bf7add19",
   "metadata": {},
   "outputs": [],
   "source": []
  }
 ],
 "metadata": {
  "kernelspec": {
   "display_name": "Python 3 (ipykernel)",
   "language": "python",
   "name": "python3"
  },
  "language_info": {
   "codemirror_mode": {
    "name": "ipython",
    "version": 3
   },
   "file_extension": ".py",
   "mimetype": "text/x-python",
   "name": "python",
   "nbconvert_exporter": "python",
   "pygments_lexer": "ipython3",
   "version": "3.12.3"
  }
 },
 "nbformat": 4,
 "nbformat_minor": 5
}
